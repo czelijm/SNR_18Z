{
  "nbformat": 4,
  "nbformat_minor": 0,
  "metadata": {
    "colab": {
      "name": "SNR_Zadanie3.ipynb",
      "version": "0.3.2",
      "provenance": [],
      "collapsed_sections": [],
      "toc_visible": true,
      "include_colab_link": true
    },
    "kernelspec": {
      "name": "python3",
      "display_name": "Python 3"
    },
    "accelerator": "GPU"
  },
  "cells": [
    {
      "cell_type": "markdown",
      "metadata": {
        "id": "view-in-github",
        "colab_type": "text"
      },
      "source": [
        "<a href=\"https://colab.research.google.com/github/czelijm/SNR_18Z/blob/master/SNR_Zadanie3.ipynb\" target=\"_parent\"><img src=\"https://colab.research.google.com/assets/colab-badge.svg\" alt=\"Open In Colab\"/></a>"
      ]
    },
    {
      "metadata": {
        "id": "d4JpPlC4A-xN",
        "colab_type": "text"
      },
      "cell_type": "markdown",
      "source": [
        "# Podpinanie dysku google, importowanie bibliotek oraz definicje funkcji\n"
      ]
    },
    {
      "metadata": {
        "id": "jUM2PfS9X-Fx",
        "colab_type": "code",
        "colab": {}
      },
      "cell_type": "code",
      "source": [
        "!pip install -q keras\n"
      ],
      "execution_count": 0,
      "outputs": []
    },
    {
      "metadata": {
        "id": "SKRmAq9ghO7g",
        "colab_type": "text"
      },
      "cell_type": "markdown",
      "source": [
        "##Uzyskanie autoryzacji do korzystania z chmury google"
      ]
    },
    {
      "metadata": {
        "id": "NrGffwI7YyBL",
        "colab_type": "code",
        "colab": {}
      },
      "cell_type": "code",
      "source": [
        "!apt-get install -y -qq software-properties-common python-software-properties module-init-tools\n",
        "!add-apt-repository -y ppa:alessandro-strada/ppa 2>&1 > /dev/null\n",
        "!apt-get update -qq 2>&1 > /dev/null\n",
        "!apt-get -y install -qq google-drive-ocamlfuse fuse\n",
        "from google.colab import auth\n",
        "auth.authenticate_user()\n",
        "from oauth2client.client import GoogleCredentials\n",
        "creds = GoogleCredentials.get_application_default()\n",
        "import getpass\n",
        "!google-drive-ocamlfuse -headless -id={creds.client_id} -secret={creds.client_secret} < /dev/null 2>&1 | grep URL\n",
        "vcode = getpass.getpass()\n",
        "!echo {vcode} | google-drive-ocamlfuse -headless -id={creds.client_id} -secret={creds.client_secret}"
      ],
      "execution_count": 0,
      "outputs": []
    },
    {
      "metadata": {
        "id": "0C2eCKDxlGjU",
        "colab_type": "code",
        "colab": {}
      },
      "cell_type": "code",
      "source": [
        "!mkdir -p drive\n",
        "!google-drive-ocamlfuse drive"
      ],
      "execution_count": 0,
      "outputs": []
    },
    {
      "metadata": {
        "id": "EabOPrQ0ljo3",
        "colab_type": "text"
      },
      "cell_type": "markdown",
      "source": [
        "##ustalanie folderu\n"
      ]
    },
    {
      "metadata": {
        "id": "zgQX17P7bYz9",
        "colab_type": "code",
        "outputId": "85567678-ea7b-4c22-8fb7-b4d0fd19feb2",
        "colab": {
          "base_uri": "https://localhost:8080/",
          "height": 35
        }
      },
      "cell_type": "code",
      "source": [
        "cd /content/drive/snr_projekt"
      ],
      "execution_count": 0,
      "outputs": [
        {
          "output_type": "stream",
          "text": [
            "/content/drive/snr_projekt\n"
          ],
          "name": "stdout"
        }
      ]
    },
    {
      "metadata": {
        "id": "UowGvKkOsGXi",
        "colab_type": "text"
      },
      "cell_type": "markdown",
      "source": [
        "## Import bibliotek, definicje funkcji"
      ]
    },
    {
      "metadata": {
        "id": "KTtE1k2MsF8v",
        "colab_type": "code",
        "colab": {}
      },
      "cell_type": "code",
      "source": [
        "import os\n",
        "from collections import Counter\n",
        "\n",
        "import cv2\n",
        "import matplotlib.pyplot as plt\n",
        "import numpy as np\n",
        "from keras.layers import Dense\n",
        "from keras.models import Sequential\n",
        "from skimage import feature\n",
        "from sklearn.metrics import roc_curve, auc\n",
        "from sklearn.model_selection import train_test_split\n",
        "\n",
        "from keras.applications.vgg16 import VGG16\n",
        "\n",
        "from keras import layers\n",
        "from keras import optimizers\n",
        "from keras.callbacks import EarlyStopping, ModelCheckpoint\n",
        "from keras.models import Model, load_model\n",
        "from keras.preprocessing.image import ImageDataGenerator, array_to_img, img_to_array, load_img\n",
        "from keras.layers import Input, Dense, Convolution2D, MaxPooling2D, AveragePooling2D, ZeroPadding2D, Dropout, Flatten, merge, Reshape, Activation, InputLayer\n",
        "from matplotlib import pyplot\n",
        "from skimage.util import random_noise\n",
        "\n",
        "from sklearn.metrics import roc_curve, auc, confusion_matrix\n",
        "from sklearn import svm\n",
        "\n",
        "import seaborn as sns\n",
        "import sys\n"
      ],
      "execution_count": 0,
      "outputs": []
    },
    {
      "metadata": {
        "id": "EOGyA5jyFhpO",
        "colab_type": "code",
        "colab": {}
      },
      "cell_type": "code",
      "source": [
        "def check_numpy_set_exist(name):\n",
        "    if os.path.isfile(\"dataX-\" + name + \".npy\") and os.path.isfile(\"dataY-\" + name + \".npy\"):\n",
        "        return True\n",
        "    return False"
      ],
      "execution_count": 0,
      "outputs": []
    },
    {
      "metadata": {
        "id": "hYslfWhRF2I2",
        "colab_type": "code",
        "colab": {}
      },
      "cell_type": "code",
      "source": [
        "def load_numpy_set(name):\n",
        "    x = np.load(\"dataX-\" + name + \".npy\")\n",
        "    y = np.load(\"dataY-\" + name + \".npy\")\n",
        "    return x, y"
      ],
      "execution_count": 0,
      "outputs": []
    },
    {
      "metadata": {
        "id": "kpnQWtgPKGJd",
        "colab_type": "code",
        "colab": {}
      },
      "cell_type": "code",
      "source": [
        "def make_id_class_dictionary(y_val):\n",
        "    # make dictionary of classes\n",
        "    y_val.sort()\n",
        "    y_val = Counter(y_val).keys()\n",
        "\n",
        "    class_id = {}\n",
        "    temp_list_id = []\n",
        "    count = 1\n",
        "\n",
        "    for i in y_val:\n",
        "        temp_list_id.append((i, count))\n",
        "        count += 1\n",
        "\n",
        "    for word, _id in temp_list_id:\n",
        "        class_id[word] = _id\n",
        "    print(class_id)\n",
        "\n",
        "    return class_id"
      ],
      "execution_count": 0,
      "outputs": []
    },
    {
      "metadata": {
        "id": "544mjyBEKJdv",
        "colab_type": "code",
        "colab": {}
      },
      "cell_type": "code",
      "source": [
        "def cvt2_id_class_list(dictionary_class_id, word_list):\n",
        "    # covert word list of class to id list of class\n",
        "    y_teach = []\n",
        "    for i in word_list:\n",
        "        y_teach.append(dictionary_class_id[i])\n",
        "    return y_teach"
      ],
      "execution_count": 0,
      "outputs": []
    },
    {
      "metadata": {
        "id": "X0fvYtl4KNa2",
        "colab_type": "code",
        "colab": {}
      },
      "cell_type": "code",
      "source": [
        "def cv2_id_class_as_vector(y_val_temp, num_of_class):\n",
        "    y_val = []\n",
        "    for i in y_val_temp:\n",
        "        y = [0] * num_of_class\n",
        "        y[i - 1] = 1\n",
        "        y_val.append(y)\n",
        "    np.asarray(y_val)\n",
        "    return y_val"
      ],
      "execution_count": 0,
      "outputs": []
    },
    {
      "metadata": {
        "id": "_luVscwVbOkF",
        "colab_type": "code",
        "colab": {}
      },
      "cell_type": "code",
      "source": [
        "def to_labels(y):\n",
        "  return np.argmax(y,1)"
      ],
      "execution_count": 0,
      "outputs": []
    },
    {
      "metadata": {
        "id": "hoqYUO3I4iCQ",
        "colab_type": "code",
        "colab": {}
      },
      "cell_type": "code",
      "source": [
        "def compare_results(y_pred_lab, y_test_lab):\n",
        "  acc = np.mean(y_pred_lab==y_test_lab)\n",
        "  return acc"
      ],
      "execution_count": 0,
      "outputs": []
    },
    {
      "metadata": {
        "id": "j1Eom3ovHGHH",
        "colab_type": "text"
      },
      "cell_type": "markdown",
      "source": [
        "#Zadanie 3 porównanie kolejnych   rzędów wielomianów  (począwszy od liniowego do    5 stopnia) "
      ]
    },
    {
      "metadata": {
        "id": "ZJT0iA9tBuYt",
        "colab_type": "text"
      },
      "cell_type": "markdown",
      "source": [
        "##Wczytywanie danych"
      ]
    },
    {
      "metadata": {
        "id": "Z5SCyYYZFqIQ",
        "colab_type": "code",
        "colab": {}
      },
      "cell_type": "code",
      "source": [
        "print(\"Dane treningowe wczytywanie rozpoczęte\")\n",
        "x_teach, y_teach = load_numpy_set(\"teach\")\n",
        "print(\"Dane treningowe wczytane\")\n"
      ],
      "execution_count": 0,
      "outputs": []
    },
    {
      "metadata": {
        "id": "SB5MfI2iG_Sk",
        "colab_type": "code",
        "colab": {}
      },
      "cell_type": "code",
      "source": [
        "print(\"Dane testowe wczytywanie rozpoczęte\")\n",
        "x_test_temp, y_test_temp = load_numpy_set(\"test\")\n",
        "print(\"Dane testowe wczytane\")\n",
        "y_test_temp_copy = y_test_temp.copy()"
      ],
      "execution_count": 0,
      "outputs": []
    },
    {
      "metadata": {
        "id": "p5OTr0RVInJN",
        "colab_type": "code",
        "colab": {}
      },
      "cell_type": "code",
      "source": [
        "# random Split Data set to teach\n",
        "x_teach, x_val, y_teach_temp1, y_val_temp1 = train_test_split(x_teach, y_teach, test_size=0.3, random_state=42)\n",
        "print(\"Dane podzielone na zbiór treningowy i walidacyjny\")"
      ],
      "execution_count": 0,
      "outputs": []
    },
    {
      "metadata": {
        "id": "iRwXAofRIveo",
        "colab_type": "code",
        "colab": {}
      },
      "cell_type": "code",
      "source": [
        "# number of class in set\n",
        "num_of_class = len(set(y_test_temp_copy))\n",
        "\n",
        "# make idClasses\n",
        "id_class_dictionary = make_id_class_dictionary(y_test_temp_copy)\n",
        "\n",
        "# convert from wordList to numberList Of class\n",
        "y_teach_temp2 = cvt2_id_class_list(id_class_dictionary, y_teach_temp1)\n",
        "y_val_temp2 = cvt2_id_class_list(id_class_dictionary, y_val_temp1)"
      ],
      "execution_count": 0,
      "outputs": []
    },
    {
      "metadata": {
        "id": "h9KeGQUUKl65",
        "colab_type": "code",
        "colab": {}
      },
      "cell_type": "code",
      "source": [
        "# get final representation of labels as vector ex. [0 0 0 0 ..... 0 1 0 0 0] - outputs of network\n",
        "y_val = cv2_id_class_as_vector(y_val_temp2, num_of_class)\n",
        "y_teach = cv2_id_class_as_vector(y_teach_temp2, num_of_class)"
      ],
      "execution_count": 0,
      "outputs": []
    },
    {
      "metadata": {
        "id": "Vff3sB-rLoEe",
        "colab_type": "text"
      },
      "cell_type": "markdown",
      "source": [
        "##wczytywanie modelu referencyjnego oraz wyznaczanie jego dokładności"
      ]
    },
    {
      "metadata": {
        "id": "zGscRicxdFpq",
        "colab_type": "code",
        "colab": {}
      },
      "cell_type": "code",
      "source": [
        "y_train_lab = np.array(y_teach_temp2)\n",
        "y_test_lab = np.array(y_val_temp2)"
      ],
      "execution_count": 0,
      "outputs": []
    },
    {
      "metadata": {
        "id": "MC-3Wby_Llos",
        "colab_type": "code",
        "colab": {}
      },
      "cell_type": "code",
      "source": [
        "model_ref =load_model(\"best_VGG_based_model_sp.hdf5\") #load_model(\"early_stopping_delta007.hdf5\") #"
      ],
      "execution_count": 0,
      "outputs": []
    },
    {
      "metadata": {
        "id": "FLy9CdAKXg_Q",
        "colab_type": "code",
        "colab": {}
      },
      "cell_type": "code",
      "source": [
        "y_pred = model_ref.predict(x_val)"
      ],
      "execution_count": 0,
      "outputs": []
    },
    {
      "metadata": {
        "id": "pZhiHGUM4uKp",
        "colab_type": "code",
        "colab": {}
      },
      "cell_type": "code",
      "source": [
        "model_ref.summary()"
      ],
      "execution_count": 0,
      "outputs": []
    },
    {
      "metadata": {
        "id": "2u-ikYIibLR5",
        "colab_type": "code",
        "colab": {}
      },
      "cell_type": "code",
      "source": [
        "ref_te_acc, ref_te_cm = compare_results(to_labels(y_pred),y_test_lab)"
      ],
      "execution_count": 0,
      "outputs": []
    },
    {
      "metadata": {
        "id": "RUhWF3WxePq2",
        "colab_type": "code",
        "colab": {}
      },
      "cell_type": "code",
      "source": [
        "ref_te_acc"
      ],
      "execution_count": 0,
      "outputs": []
    },
    {
      "metadata": {
        "id": "szGxAmlbB9px",
        "colab_type": "code",
        "colab": {}
      },
      "cell_type": "code",
      "source": [
        "y_pred = model_ref.predict(x_teach)"
      ],
      "execution_count": 0,
      "outputs": []
    },
    {
      "metadata": {
        "id": "P6fI1IedCBuL",
        "colab_type": "code",
        "colab": {}
      },
      "cell_type": "code",
      "source": [
        "ref_tr_acc, ref_tr_cm = compare_results(to_labels(y_pred),y_train_lab)"
      ],
      "execution_count": 0,
      "outputs": []
    },
    {
      "metadata": {
        "id": "gc9aDvW1CGve",
        "colab_type": "code",
        "colab": {}
      },
      "cell_type": "code",
      "source": [
        "ref_tr_acc"
      ],
      "execution_count": 0,
      "outputs": []
    },
    {
      "metadata": {
        "id": "_ZnpJvcmgUmk",
        "colab_type": "code",
        "colab": {}
      },
      "cell_type": "code",
      "source": [
        "print_heatmap(ref_tr_cm)"
      ],
      "execution_count": 0,
      "outputs": []
    },
    {
      "metadata": {
        "id": "3wRBAS_mCYm9",
        "colab_type": "text"
      },
      "cell_type": "markdown",
      "source": [
        "##SVM OneVsOne"
      ]
    },
    {
      "metadata": {
        "id": "cXyLoY-7ZKeN",
        "colab_type": "text"
      },
      "cell_type": "markdown",
      "source": [
        "###Wczytywanie modelu sieci dla SVM"
      ]
    },
    {
      "metadata": {
        "id": "ynzrH8H8CXHk",
        "colab_type": "code",
        "colab": {}
      },
      "cell_type": "code",
      "source": [
        "model = load_model(\"best_VGG_based_model_sp.hdf5\") #load_model(\"early_stopping_delta007.hdf5\")  #load_model(\"best_VGG_based_model_sp.hdf5\")"
      ],
      "execution_count": 0,
      "outputs": []
    },
    {
      "metadata": {
        "id": "rkPCYzKCCos0",
        "colab_type": "code",
        "colab": {}
      },
      "cell_type": "code",
      "source": [
        "model.summary()"
      ],
      "execution_count": 0,
      "outputs": []
    },
    {
      "metadata": {
        "id": "cUzCx5Q1E9-9",
        "colab_type": "code",
        "colab": {}
      },
      "cell_type": "code",
      "source": [
        "X_train_out = model.predict(x_teach)"
      ],
      "execution_count": 0,
      "outputs": []
    },
    {
      "metadata": {
        "id": "X5Nrvb_dGLGB",
        "colab_type": "code",
        "colab": {}
      },
      "cell_type": "code",
      "source": [
        "X_test_out = model.predict(x_val)"
      ],
      "execution_count": 0,
      "outputs": []
    },
    {
      "metadata": {
        "id": "vZhvWJhzFF8a",
        "colab_type": "text"
      },
      "cell_type": "markdown",
      "source": [
        "###SVM wielomian stopnia 1go"
      ]
    },
    {
      "metadata": {
        "id": "hes8ag1vGHYx",
        "colab_type": "code",
        "colab": {}
      },
      "cell_type": "code",
      "source": [
        "svm1 = svm.SVC(kernel='poly', degree=1, decision_function_shape='ovo')"
      ],
      "execution_count": 0,
      "outputs": []
    },
    {
      "metadata": {
        "id": "-U-UGGI7Ljud",
        "colab_type": "code",
        "colab": {}
      },
      "cell_type": "code",
      "source": [
        "svm1.fit(X_train_out,y_train_lab)"
      ],
      "execution_count": 0,
      "outputs": []
    },
    {
      "metadata": {
        "id": "qF675QLBLs6T",
        "colab_type": "code",
        "colab": {}
      },
      "cell_type": "code",
      "source": [
        "y_pred_lab = svm1.predict(X_test_out)"
      ],
      "execution_count": 0,
      "outputs": []
    },
    {
      "metadata": {
        "id": "-ZT1OyfnLulJ",
        "colab_type": "code",
        "colab": {}
      },
      "cell_type": "code",
      "source": [
        "y_pred_lab.shape, y_test_lab.shape"
      ],
      "execution_count": 0,
      "outputs": []
    },
    {
      "metadata": {
        "id": "q4gwblmpLy0g",
        "colab_type": "code",
        "colab": {}
      },
      "cell_type": "code",
      "source": [
        "accuracy = compare_results(y_pred_lab,y_test_lab)"
      ],
      "execution_count": 0,
      "outputs": []
    },
    {
      "metadata": {
        "id": "3LbpR9s1Lzaw",
        "colab_type": "code",
        "colab": {}
      },
      "cell_type": "code",
      "source": [
        "accuracy"
      ],
      "execution_count": 0,
      "outputs": []
    },
    {
      "metadata": {
        "id": "zTByKFRzL4jy",
        "colab_type": "text"
      },
      "cell_type": "markdown",
      "source": [
        "###SVM wszystkie stopnie wielomianów\n"
      ]
    },
    {
      "metadata": {
        "id": "WIUr_bHvL-Y4",
        "colab_type": "code",
        "colab": {}
      },
      "cell_type": "code",
      "source": [
        "te_accs = []\n",
        "tr_accs = []\n",
        "degrees = [1,2,3,4,5]\n",
        "names = ['ref']\n",
        "for degree in degrees:\n",
        "  names.append('SVM dim='+str(degree))"
      ],
      "execution_count": 0,
      "outputs": []
    },
    {
      "metadata": {
        "id": "kkg3Mj2dL-Xi",
        "colab_type": "code",
        "colab": {}
      },
      "cell_type": "code",
      "source": [
        "te_accs.append(ref_te_acc)\n",
        "tr_accs.append(ref_tr_acc)"
      ],
      "execution_count": 0,
      "outputs": []
    },
    {
      "metadata": {
        "id": "XCY4tbTkMouH",
        "colab_type": "code",
        "outputId": "417f840a-8a56-4390-9e98-3a3e8d7de5f6",
        "colab": {
          "base_uri": "https://localhost:8080/",
          "height": 34
        }
      },
      "cell_type": "code",
      "source": [
        "names"
      ],
      "execution_count": 0,
      "outputs": [
        {
          "output_type": "execute_result",
          "data": {
            "text/plain": [
              "['ref', 'SVM dim=1', 'SVM dim=2', 'SVM dim=3', 'SVM dim=4', 'SVM dim=5']"
            ]
          },
          "metadata": {
            "tags": []
          },
          "execution_count": 46
        }
      ]
    },
    {
      "metadata": {
        "id": "KfSRIpflMtWB",
        "colab_type": "code",
        "colab": {}
      },
      "cell_type": "code",
      "source": [
        "svms = []"
      ],
      "execution_count": 0,
      "outputs": []
    },
    {
      "metadata": {
        "id": "m7c6BAR7MvBj",
        "colab_type": "code",
        "colab": {}
      },
      "cell_type": "code",
      "source": [
        "#Tworzenie modeli\n",
        "for degree in degrees:\n",
        "  model = svm.SVC(kernel='poly', degree=degree, decision_function_shape='ovo')\n",
        "  svms.append(model)"
      ],
      "execution_count": 0,
      "outputs": []
    },
    {
      "metadata": {
        "id": "-DVzt5AjM-GV",
        "colab_type": "text"
      },
      "cell_type": "markdown",
      "source": [
        "####wyszkolenie modeli"
      ]
    },
    {
      "metadata": {
        "id": "RpUL3UVPNG7_",
        "colab_type": "code",
        "colab": {}
      },
      "cell_type": "code",
      "source": [
        "for idx,model in enumerate(svms):\n",
        "  print(\"Training model \"+str(idx)+\"...\")\n",
        "  sys.stdout.flush()\n",
        "  model.fit(X_train_out,y_train_lab)"
      ],
      "execution_count": 0,
      "outputs": []
    },
    {
      "metadata": {
        "id": "cFTsvk2-Nonj",
        "colab_type": "code",
        "colab": {}
      },
      "cell_type": "code",
      "source": [
        "np.save(\"all.npy\",svms)"
      ],
      "execution_count": 0,
      "outputs": []
    },
    {
      "metadata": {
        "id": "SLnHkMKANxIK",
        "colab_type": "code",
        "colab": {}
      },
      "cell_type": "code",
      "source": [
        "for idx,model in enumerate(svms):\n",
        "  print(\"Testing model \"+str(idx)+\"...\")\n",
        "  sys.stdout.flush()\n",
        "  #train\n",
        "  y_pred_lab = model.predict(X_train_out)\n",
        "  acc = compare_results(y_pred_lab,y_train_lab)\n",
        "  tr_accs.append(acc)\n",
        "  print(\"Acc train: \"+str(acc))\n",
        "  sys.stdout.flush()\n",
        "  #test\n",
        "  y_pred_lab = model.predict(X_test_out)\n",
        "  acc = compare_results(y_pred_lab,y_test_lab)\n",
        "  te_accs.append(acc)\n",
        "  print(\"Acc test: \"+str(acc))\n",
        "  sys.stdout.flush()"
      ],
      "execution_count": 0,
      "outputs": []
    },
    {
      "metadata": {
        "id": "GkGDbLQwOCFq",
        "colab_type": "code",
        "colab": {}
      },
      "cell_type": "code",
      "source": [
        "np.save(\"all_tr_accs_ovo.npy\",tr_accs)\n",
        "np.save(\"all_te_accs_ovo.npy\",te_accs)"
      ],
      "execution_count": 0,
      "outputs": []
    },
    {
      "metadata": {
        "id": "cleanL3DNCO5",
        "colab_type": "text"
      },
      "cell_type": "markdown",
      "source": [
        "####Wizualizacja wyników"
      ]
    },
    {
      "metadata": {
        "id": "IKlKzVKVOLVP",
        "colab_type": "code",
        "colab": {}
      },
      "cell_type": "code",
      "source": [
        "sns.barplot(x = names, y = te_accs)\n",
        "plt.title(\"Test accuracy\")"
      ],
      "execution_count": 0,
      "outputs": []
    },
    {
      "metadata": {
        "id": "yuA_v-lzOPad",
        "colab_type": "code",
        "colab": {}
      },
      "cell_type": "code",
      "source": [
        "sns.barplot(x = names, y = tr_accs)\n",
        "plt.title(\"Train accuracy\")"
      ],
      "execution_count": 0,
      "outputs": []
    },
    {
      "metadata": {
        "id": "1wV8-i-9od0N",
        "colab_type": "code",
        "colab": {}
      },
      "cell_type": "code",
      "source": [
        ""
      ],
      "execution_count": 0,
      "outputs": []
    },
    {
      "metadata": {
        "id": "yfOmE6pkObUc",
        "colab_type": "text"
      },
      "cell_type": "markdown",
      "source": [
        "##SVM 'OneVsRest'"
      ]
    },
    {
      "metadata": {
        "id": "9jSDheYzOuml",
        "colab_type": "code",
        "colab": {}
      },
      "cell_type": "code",
      "source": [
        "for model in svms:\n",
        "  del model\n",
        "del svms"
      ],
      "execution_count": 0,
      "outputs": []
    },
    {
      "metadata": {
        "id": "tO3ytNtUO0Jk",
        "colab_type": "code",
        "colab": {}
      },
      "cell_type": "code",
      "source": [
        "model_ref = load_model(\"best_VGG_based_model_sp.hdf5\")"
      ],
      "execution_count": 0,
      "outputs": []
    },
    {
      "metadata": {
        "id": "w-IUDapKO7CY",
        "colab_type": "code",
        "colab": {}
      },
      "cell_type": "code",
      "source": [
        "y_pred = model_ref.predict(x_val)"
      ],
      "execution_count": 0,
      "outputs": []
    },
    {
      "metadata": {
        "id": "UlwWXHErO_mJ",
        "colab_type": "code",
        "colab": {}
      },
      "cell_type": "code",
      "source": [
        "ref_te_acc = compare_results(to_labels(y_pred),y_test_lab)"
      ],
      "execution_count": 0,
      "outputs": []
    },
    {
      "metadata": {
        "id": "HO0xFM4rPGwJ",
        "colab_type": "code",
        "colab": {}
      },
      "cell_type": "code",
      "source": [
        "y_pred = model_ref.predict(x_teach)"
      ],
      "execution_count": 0,
      "outputs": []
    },
    {
      "metadata": {
        "id": "V6b8_5mLPHrm",
        "colab_type": "code",
        "colab": {}
      },
      "cell_type": "code",
      "source": [
        "ref_tr_acc = compare_results(to_labels(y_pred),y_train_lab)"
      ],
      "execution_count": 0,
      "outputs": []
    },
    {
      "metadata": {
        "id": "buLDJXkMPOlb",
        "colab_type": "text"
      },
      "cell_type": "markdown",
      "source": [
        "###Siec dla SVM"
      ]
    },
    {
      "metadata": {
        "id": "YXDFg_t6PSZU",
        "colab_type": "code",
        "colab": {}
      },
      "cell_type": "code",
      "source": [
        "model_1 = load_model(\"best_VGG_based_model_sp.hdf5\")"
      ],
      "execution_count": 0,
      "outputs": []
    },
    {
      "metadata": {
        "id": "tPCFXiRJrf6h",
        "colab_type": "code",
        "colab": {}
      },
      "cell_type": "code",
      "source": [
        "model = Sequential()\n",
        "\n",
        "model.add(layers.InputLayer((100, 100, 3)))\n",
        "model.add(layers.Convolution2D(64, (3, 3),\n",
        "                         activation='relu',\n",
        "                         padding='same',\n",
        "                         name='block1_conv1'))\n",
        "model.add( layers.Convolution2D(64, (3, 3),\n",
        "                         activation='relu',\n",
        "                         padding='same',\n",
        "                         name='block1_conv2'))\n",
        "model.add( layers.MaxPooling2D((2, 2), strides=(2, 2), name='block1_pool'))\n",
        "\n",
        "# Block 2\n",
        "model.add( layers.Convolution2D(128, (3, 3),\n",
        "                         activation='relu',\n",
        "                         padding='same',\n",
        "                         name='block2_conv1'))\n",
        "model.add( layers.Convolution2D(128, (3, 3),\n",
        "                         activation='relu',\n",
        "                         padding='same',\n",
        "                         name='block2_conv2'))\n",
        "model.add( layers.MaxPooling2D((2, 2), strides=(2, 2), name='block2_pool'))\n",
        "\n",
        "# Block 3\n",
        "model.add( layers.Convolution2D(256, (3, 3),\n",
        "                         activation='relu',\n",
        "                         padding='same',\n",
        "                         name='block3_conv1'))\n",
        "model.add( layers.Convolution2D(256, (3, 3),\n",
        "                         activation='relu',\n",
        "                         padding='same',\n",
        "                         name='block3_conv2'))\n",
        "model.add( layers.Convolution2D(256, (3, 3),\n",
        "                         activation='relu',\n",
        "                         padding='same',\n",
        "                         name='block3_conv3'))\n",
        "model.add( layers.MaxPooling2D((2, 2), strides=(2, 2), name='block3_pool'))\n",
        "\n",
        "# Block 4\n",
        "model.add( layers.Convolution2D(512, (3, 3),\n",
        "                         activation='relu',\n",
        "                         padding='same',\n",
        "                         name='block4_conv1'))\n",
        "model.add( layers.Convolution2D(512, (3, 3),\n",
        "                         activation='relu',\n",
        "                         padding='same',\n",
        "                         name='block4_conv2'))\n",
        "model.add( layers.Convolution2D(512, (3, 3),\n",
        "                         activation='relu',\n",
        "                         padding='same',\n",
        "                         name='block4_conv3'))\n",
        "model.add(layers.MaxPooling2D((2, 2), strides=(2, 2), name='block4_pool'))\n",
        "\n",
        "# Block 5\n",
        "model.add(layers.Convolution2D(512, (3, 3),\n",
        "                         activation='relu',\n",
        "                         padding='same',\n",
        "                         name='block5_conv1'))\n",
        "model.add(layers.Convolution2D(512, (3, 3),\n",
        "                         activation='relu',\n",
        "                         padding='same',\n",
        "                         name='block5_conv2'))\n",
        "model.add( layers.Convolution2D(512, (3, 3),\n",
        "                         activation='relu',\n",
        "                         padding='same',\n",
        "                         name='block5_conv3'))\n",
        "model.add( layers.MaxPooling2D((2, 2), strides=(2, 2), name='block5_pool'))\n",
        "\n",
        "model.add(layers.Flatten())\n",
        "# tmp_model_working.add(Dropout(0.3))\n",
        "model.add(layers.Dense(71, activation='softmax'))\n",
        "\n",
        "\n",
        "model.set_weights(model_1.get_weights()) "
      ],
      "execution_count": 0,
      "outputs": []
    },
    {
      "metadata": {
        "id": "RLcZIjluszer",
        "colab_type": "code",
        "colab": {}
      },
      "cell_type": "code",
      "source": [
        "model.summary()"
      ],
      "execution_count": 0,
      "outputs": []
    },
    {
      "metadata": {
        "id": "hGoJmNmoPWDl",
        "colab_type": "code",
        "colab": {}
      },
      "cell_type": "code",
      "source": [
        "model.pop()\n",
        "model.pop()\n",
        "model.summary()"
      ],
      "execution_count": 0,
      "outputs": []
    },
    {
      "metadata": {
        "id": "xghkID5bwfX7",
        "colab_type": "code",
        "colab": {}
      },
      "cell_type": "code",
      "source": [
        "X_train_out = model.predict(x_teach)"
      ],
      "execution_count": 0,
      "outputs": []
    },
    {
      "metadata": {
        "colab_type": "code",
        "id": "Yxh9QZwRQai8",
        "colab": {}
      },
      "cell_type": "code",
      "source": [
        "X_test_out = model.predict(x_val)"
      ],
      "execution_count": 0,
      "outputs": []
    },
    {
      "metadata": {
        "colab_type": "text",
        "id": "Yii1eXX4m5MU"
      },
      "cell_type": "markdown",
      "source": [
        "###SVM wszystkie stopnie wielomianów"
      ]
    },
    {
      "metadata": {
        "id": "YqfbAED1QpoK",
        "colab_type": "code",
        "colab": {}
      },
      "cell_type": "code",
      "source": [
        "te_accs = []\n",
        "tr_accs = []\n",
        "degrees = [1,2,3,4,5]\n",
        "names = ['ref']\n",
        "for degree in degrees:\n",
        "  names.append('SVM dim='+str(degree))"
      ],
      "execution_count": 0,
      "outputs": []
    },
    {
      "metadata": {
        "id": "l1QjVU1RwfYf",
        "colab_type": "code",
        "colab": {}
      },
      "cell_type": "code",
      "source": [
        "te_accs.append(ref_te_acc)\n",
        "tr_accs.append(ref_tr_acc)"
      ],
      "execution_count": 0,
      "outputs": []
    },
    {
      "metadata": {
        "id": "OHW6lIvtwfYh",
        "colab_type": "code",
        "outputId": "2db3f765-0faf-4bfb-888a-c8a6d10d6620",
        "colab": {
          "base_uri": "https://localhost:8080/",
          "height": 35
        }
      },
      "cell_type": "code",
      "source": [
        "names"
      ],
      "execution_count": 0,
      "outputs": [
        {
          "output_type": "execute_result",
          "data": {
            "text/plain": [
              "['ref', 'SVM dim=1', 'SVM dim=2', 'SVM dim=3', 'SVM dim=4', 'SVM dim=5']"
            ]
          },
          "metadata": {
            "tags": []
          },
          "execution_count": 82
        }
      ]
    },
    {
      "metadata": {
        "id": "bgl6sKzvQ4Fd",
        "colab_type": "text"
      },
      "cell_type": "markdown",
      "source": [
        "####usunięcie modelu"
      ]
    },
    {
      "metadata": {
        "id": "bK2S0mCiwfYk",
        "colab_type": "code",
        "colab": {}
      },
      "cell_type": "code",
      "source": [
        "del model_ref\n",
        "del model\n",
        "del model_1"
      ],
      "execution_count": 0,
      "outputs": []
    },
    {
      "metadata": {
        "id": "HW5qRAzAwfYm",
        "colab_type": "text"
      },
      "cell_type": "markdown",
      "source": [
        "#### Utworzenie modeli"
      ]
    },
    {
      "metadata": {
        "id": "2lmq6KoLwfYm",
        "colab_type": "code",
        "colab": {}
      },
      "cell_type": "code",
      "source": [
        "svms = []"
      ],
      "execution_count": 0,
      "outputs": []
    },
    {
      "metadata": {
        "id": "HsCquYVHwfYo",
        "colab_type": "code",
        "colab": {}
      },
      "cell_type": "code",
      "source": [
        "#Tworzenie modeli\n",
        "for degree in degrees:\n",
        "  model = svm.SVC(kernel='poly', degree=degree, decision_function_shape='ovr')\n",
        "  svms.append(model)"
      ],
      "execution_count": 0,
      "outputs": []
    },
    {
      "metadata": {
        "id": "HrlB0cm8ROy1",
        "colab_type": "text"
      },
      "cell_type": "markdown",
      "source": [
        "####szkolenie"
      ]
    },
    {
      "metadata": {
        "id": "WXyWYBu1RJeE",
        "colab_type": "code",
        "colab": {}
      },
      "cell_type": "code",
      "source": [
        "for idx,model in enumerate(svms):\n",
        "  print(\"Training model \"+str(idx)+\"...\")\n",
        "  sys.stdout.flush()\n",
        "  model.fit(X_train_out,y_train_lab)"
      ],
      "execution_count": 0,
      "outputs": []
    },
    {
      "metadata": {
        "id": "9lA0rW5MRi46",
        "colab_type": "text"
      },
      "cell_type": "markdown",
      "source": [
        "####Testowanie modeli"
      ]
    },
    {
      "metadata": {
        "id": "2WscblZqRqlD",
        "colab_type": "code",
        "colab": {}
      },
      "cell_type": "code",
      "source": [
        "for idx,model in enumerate(svms):\n",
        "  print(\"Testing model \"+str(idx)+\"...\")\n",
        "  sys.stdout.flush()\n",
        "  #train\n",
        "  y_pred_lab = model.predict(X_train_out)\n",
        "  acc = compare_results(y_pred_lab,y_train_lab)\n",
        "  tr_accs.append(acc)\n",
        "  print(\"Acc train: \"+str(acc))\n",
        "  sys.stdout.flush()\n",
        "  #test\n",
        "  y_pred_lab = model.predict(X_test_out)\n",
        "  acc = compare_results(y_pred_lab,y_test_lab)\n",
        "  te_accs.append(acc)\n",
        "  print(\"Acc test: \"+str(acc))\n",
        "  sys.stdout.flush()"
      ],
      "execution_count": 0,
      "outputs": []
    },
    {
      "metadata": {
        "id": "lvpT8D0CRxLq",
        "colab_type": "code",
        "colab": {}
      },
      "cell_type": "code",
      "source": [
        "np.save(\"all_tr_accs_ovac.npy\",tr_accs)\n",
        "np.save(\"all_tr_accs_ovac.npy\",te_accs)"
      ],
      "execution_count": 0,
      "outputs": []
    },
    {
      "metadata": {
        "id": "oDO1SOt1Ryi6",
        "colab_type": "text"
      },
      "cell_type": "markdown",
      "source": [
        "####Wizualizacja wyników"
      ]
    },
    {
      "metadata": {
        "id": "wMINxjdeR494",
        "colab_type": "code",
        "colab": {}
      },
      "cell_type": "code",
      "source": [
        "\n",
        "sns.barplot(x = names, y = te_accs)\n"
      ],
      "execution_count": 0,
      "outputs": []
    },
    {
      "metadata": {
        "id": "0zrM356jR_z2",
        "colab_type": "code",
        "colab": {}
      },
      "cell_type": "code",
      "source": [
        "sns.barplot(x = names, y = tr_accs)"
      ],
      "execution_count": 0,
      "outputs": []
    },
    {
      "metadata": {
        "colab_type": "code",
        "id": "4gfMALCpSPjD",
        "colab": {}
      },
      "cell_type": "code",
      "source": [
        "te_accs"
      ],
      "execution_count": 0,
      "outputs": []
    }
  ]
}